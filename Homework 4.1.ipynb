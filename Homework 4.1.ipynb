{
 "cells": [
  {
   "cell_type": "code",
   "execution_count": 206,
   "metadata": {},
   "outputs": [],
   "source": [
    "import pandas as pd\n",
    "\n",
    "\n",
    "DATA_PATH = 'D:\\\\Courses\\\\netology_gits\\\\py13-homeworks\\\\py-13-4.1-hw\\\\'\n",
    "cols = ['Name', 'Gender', 'Count']\n",
    "\n",
    "make_path = lambda x: f'{DATA_PATH}yob{x}.txt'"
   ]
  },
  {
   "cell_type": "code",
   "execution_count": 224,
   "metadata": {},
   "outputs": [],
   "source": [
    "def count_top3(years_list):\n",
    "    result = list()\n",
    "    \n",
    "    for year in years_list:\n",
    "        data = pd.read_csv(make_path(year), names=cols)\n",
    "        result.append(data)\n",
    "        \n",
    "    return [*pd.concat(result).sort_values(by='Count', ascending=False).head(3).Name]"
   ]
  },
  {
   "cell_type": "code",
   "execution_count": 225,
   "metadata": {
    "collapsed": true
   },
   "outputs": [
    {
     "name": "stdout",
     "output_type": "stream",
     "text": [
      "['James', 'Robert', 'Linda']\n"
     ]
    }
   ],
   "source": [
    "print(count_top3([1900, 1950, 2000]))"
   ]
  },
  {
   "cell_type": "code",
   "execution_count": 439,
   "metadata": {},
   "outputs": [],
   "source": [
    "def count_dynamics(years_list):\n",
    "    result = list()\n",
    "    \n",
    "    for year in years_list:\n",
    "        data = {**pd.read_csv(make_path(year), names=cols).groupby('Gender').Count.sum()}\n",
    "        result.append(data)\n",
    "    \n",
    "    dataFrame = pd.DataFrame(result)\n",
    "    \n",
    "    return {name: [*dataFrame[name]] for (i, name) in enumerate(dataFrame)}"
   ]
  },
  {
   "cell_type": "code",
   "execution_count": 440,
   "metadata": {
    "collapsed": true
   },
   "outputs": [
    {
     "name": "stdout",
     "output_type": "stream",
     "text": [
      "{'F': [299810, 1713259, 1814922], 'M': [150486, 1790871, 1962744]}\n"
     ]
    }
   ],
   "source": [
    "print(count_dynamics([1900, 1950, 2000]))"
   ]
  }
 ],
 "metadata": {
  "kernelspec": {
   "display_name": "Python 3",
   "language": "python",
   "name": "python3"
  },
  "language_info": {
   "codemirror_mode": {
    "name": "ipython",
    "version": 3
   },
   "file_extension": ".py",
   "mimetype": "text/x-python",
   "name": "python",
   "nbconvert_exporter": "python",
   "pygments_lexer": "ipython3",
   "version": "3.6.4"
  }
 },
 "nbformat": 4,
 "nbformat_minor": 2
}
